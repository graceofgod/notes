{
 "cells": [
  {
   "cell_type": "markdown",
   "metadata": {},
   "source": [
    "<div style=\"text-align:center\"><span style=\"color:balck; font-family:Times New Roman; font-size:3em;\"> Tempus Takehome Assignment  </span></div>"
   ]
  },
  {
   "cell_type": "markdown",
   "metadata": {},
   "source": [
    "<div style=\"text-align:left\"><span style=\"color:blue; font-family:Times New Roman; font-size:2.5em;\"> 1   Introduction </span></div>"
   ]
  },
  {
   "cell_type": "markdown",
   "metadata": {},
   "source": [
    "<div style=\"text-align:justify\"><span style=\"color:black; font-family:Times New Roman; font-size:1.5em;line-height:1.4em;\"> The data of this assignment has 16,562 binary feature variables and 1 output variable (“response”). All the input features are anonymous. The goal of this assignment is to predict the \"response\" variable (0 or 1) based a broad spectrum of feature variables.  Through this assignment, I show data exploration and the choice of Machine Learning models that can be used to predict the \"response\" outcome with satisfying performance. I use the scikit-learn, pandas, numpy, seaborn and xgboost libraries in Python to complete this assignment. The code and the results are well-described in this Jupyter Notebook.\n",
    " </span></div>"
   ]
  },
  {
   "cell_type": "code",
   "execution_count": 86,
   "metadata": {
    "collapsed": false
   },
   "outputs": [],
   "source": [
    "import numpy as np\n",
    "import pandas as pd\n",
    "from pandas import DataFrame\n",
    "#Print all rows and columns. Dont hide any\n",
    "pd.set_option('display.max_rows', None)\n",
    "pd.set_option('display.max_columns', None)\n",
    "import matplotlib.pyplot as plt\n",
    "%matplotlib inline\n",
    "\n",
    "import seaborn as sns\n",
    "from sklearn.model_selection import train_test_split, GridSearchCV\n",
    "from sklearn.feature_selection import SelectFromModel\n",
    "from sklearn.linear_model import LogisticRegression\n",
    "from sklearn.ensemble import RandomForestClassifier \n",
    "from sklearn.ensemble import BaggingClassifier \n",
    "from sklearn.ensemble import AdaBoostClassifier\n",
    "from sklearn.ensemble import GradientBoostingClassifier\n",
    "from sklearn.tree import DecisionTreeClassifier\n",
    "from xgboost import XGBClassifier\n",
    "from sklearn.metrics import accuracy_score, precision_score, confusion_matrix, recall_score\n",
    "from itertools       import product\n",
    "import warnings\n",
    "warnings.filterwarnings(\"ignore\")"
   ]
  },
  {
   "cell_type": "markdown",
   "metadata": {},
   "source": [
    "<div style=\"text-align:left\"><span style=\"color:blue; font-family:Times New Roman; font-size:2.5em;\"> 2   Exploratory Analysis </span></div>"
   ]
  },
  {
   "cell_type": "markdown",
   "metadata": {},
   "source": [
    "<div style=\"text-align:justify\"><span style=\"color:black; font-family:Times New Roman; font-size:1.5em;line-height:1.4em;\">The data is extracted from “takehome1.txt”. I load the tabular data file into a Pandas DataFrame by using the pandas.read_table function. I assign sep=\\s+ to pandas.read_table since this data file uses whitespaces as the separator between columns. Because the datatype of all 16,563 variables in the file is int64, I use the dtype option in pandas.read_table to cast the values of the data to become int8, which can reduce memory usage of loading the data from 67.0 MB to 8.4 MB.  \n",
    " </span></div>"
   ]
  },
  {
   "cell_type": "code",
   "execution_count": 3,
   "metadata": {
    "collapsed": false
   },
   "outputs": [],
   "source": [
    "df=pd.read_table('takehome1.txt', sep='\\s+', dtype=np.int8)\n",
    "#df.head()"
   ]
  },
  {
   "cell_type": "markdown",
   "metadata": {},
   "source": [
    "<div style=\"text-align:justify\"><span style=\"color:black; font-family:Times New Roman; font-size:1.5em;line-height:1.4em;\"> There are 530 observations with 16,563 binary variables in the dataset. There are no missing values existed in the data.     \n",
    " </span></div>"
   ]
  },
  {
   "cell_type": "code",
   "execution_count": 51,
   "metadata": {
    "collapsed": false
   },
   "outputs": [
    {
     "name": "stdout",
     "output_type": "stream",
     "text": [
      "<class 'pandas.core.frame.DataFrame'>\n",
      "RangeIndex: 530 entries, 0 to 529\n",
      "Columns: 16563 entries, response to V16562\n",
      "dtypes: int8(16563)\n",
      "memory usage: 8.4 MB\n",
      "The number of missing values in the data :  0\n"
     ]
    }
   ],
   "source": [
    "df.info()\n",
    "print 'The number of missing values in the data : ',format (df.isnull().sum(axis=0).sum())"
   ]
  },
  {
   "cell_type": "markdown",
   "metadata": {},
   "source": [
    "<div style=\"text-align:justify\"><span style=\"color:black; font-family:Times New Roman; font-size:1.5em;line-height:1.4em;\"> For the output valuable “response”, 76.8% of the observations have the “response” value of 0 while only 23.2 % of the observations have the “response” value of 1. Therefore, the dataset doesn’t have approximately equal number of observations in each class, indicating a class imbalance.    \n",
    " </span></div>"
   ]
  },
  {
   "cell_type": "code",
   "execution_count": 4,
   "metadata": {
    "collapsed": false
   },
   "outputs": [
    {
     "data": {
      "text/html": [
       "<div>\n",
       "<table border=\"1\" class=\"dataframe\">\n",
       "  <thead>\n",
       "    <tr style=\"text-align: right;\">\n",
       "      <th></th>\n",
       "      <th>Count</th>\n",
       "      <th>Ratio</th>\n",
       "    </tr>\n",
       "  </thead>\n",
       "  <tbody>\n",
       "    <tr>\n",
       "      <th>0</th>\n",
       "      <td>407</td>\n",
       "      <td>0.767925</td>\n",
       "    </tr>\n",
       "    <tr>\n",
       "      <th>1</th>\n",
       "      <td>123</td>\n",
       "      <td>0.232075</td>\n",
       "    </tr>\n",
       "  </tbody>\n",
       "</table>\n",
       "</div>"
      ],
      "text/plain": [
       "   Count     Ratio\n",
       "0    407  0.767925\n",
       "1    123  0.232075"
      ]
     },
     "execution_count": 4,
     "metadata": {},
     "output_type": "execute_result"
    }
   ],
   "source": [
    "df_responce=DataFrame(pd.value_counts(df[\"response\"])).rename(columns={\"response\" : \"Count\"})\n",
    "df_responce[\"Ratio\"]=df_responce[\"Count\"]/df_responce[\"Count\"].sum(0)\n",
    "df_responce"
   ]
  },
  {
   "cell_type": "markdown",
   "metadata": {},
   "source": [
    "<div style=\"text-align:justify\"><span style=\"color:black; font-family:Times New Roman; font-size:1.5em;line-height:1.4em;\"> Among the 16,562 input binary variables, not all of them can provide predictive information to classify the “response” variable. There are 5669 one-level features and 10893 bi-level features. Almost one-third of input variables have one unique value, which means they fail to make a positive impact on model performance. Hence I delete the 5669 variables with only one level.\n",
    " </span></div>"
   ]
  },
  {
   "cell_type": "code",
   "execution_count": 5,
   "metadata": {
    "collapsed": false
   },
   "outputs": [
    {
     "data": {
      "text/plain": [
       "1     5669\n",
       "2    10893\n",
       "Name: nunique, dtype: int64"
      ]
     },
     "execution_count": 5,
     "metadata": {},
     "output_type": "execute_result"
    }
   ],
   "source": [
    "df_nunique=df.ix[:,1:].apply(lambda x: x.nunique()).reset_index().rename(columns={\"index\":\"feature\", 0:\"nunique\"})\n",
    "df_nunique[\"nunique\"].value_counts().sort_index()"
   ]
  },
  {
   "cell_type": "code",
   "execution_count": 6,
   "metadata": {
    "collapsed": false
   },
   "outputs": [],
   "source": [
    "# I delete the variables with only one level from the data\n",
    "one_level_features=df_nunique[df_nunique[\"nunique\"]==1]['feature'].values\n",
    "df=df.drop(one_level_features, axis=1)"
   ]
  },
  {
   "cell_type": "markdown",
   "metadata": {},
   "source": [
    "<div style=\"text-align:justify\"><span style=\"color:black; font-family:Times New Roman; font-size:1.5em;line-height:1.4em;\"> Among the 10893 bi-level input variables, I find out there are 1350 variables that are identical to other variables by using the pandas duplicated function. These duplicated variables supply redundant information. I decide to delete them in order to reduce the computational complexity. After the process of data cleaning, I create a new DataFrame X as the input variables with 530 observations and 9543 feature variables. I also define Y as the output variable of “response”.\n",
    " </span></div>"
   ]
  },
  {
   "cell_type": "code",
   "execution_count": 7,
   "metadata": {
    "collapsed": false
   },
   "outputs": [
    {
     "name": "stdout",
     "output_type": "stream",
     "text": [
      "The number of duplicated features : 1350\n",
      "The number of the input feature variables after data cleaning : 9543 \n"
     ]
    }
   ],
   "source": [
    "print \"The number of duplicated features : {}\".format(df.ix[:,1:].T.duplicated().sum())\n",
    "# Assign X is the input variables and Y is the output value of “response”.\n",
    "X=df.ix[:,1:].T.drop_duplicates().T\n",
    "Y=df[\"response\"]\n",
    "print \"The number of the input feature variables after data cleaning : {} \".format(X.shape[1])"
   ]
  },
  {
   "cell_type": "markdown",
   "metadata": {},
   "source": [
    "<div style=\"text-align:justify\"><span style=\"color:black; font-family:Times New Roman; font-size:1.5em;line-height:1.4em;\"> Some of the feature variables show slim chance of making a real impact on the data modeling. For example, the figure below displays that there are 366, 836, 688, 512, and 451 bi-level features that only have 1, 2, 3, 4, and 5 times of occurrence of the value 1 from the 530 observations. In other words, almost 30% of binary features have less than or equal to 5 observations of showing the value 1. This indicates these features won’t provide significant information to predict the “response” outcome. The less informative features will be filtered out by using feature selection techniques. Lasso regularization and tree-based classifiers will be used to extract most important features from such a high-dimensional dataset. \n",
    " </span></div>"
   ]
  },
  {
   "cell_type": "code",
   "execution_count": 190,
   "metadata": {
    "collapsed": false
   },
   "outputs": [
    {
     "data": {
      "text/plain": [
       "<matplotlib.text.Text at 0x9a3a2588>"
      ]
     },
     "execution_count": 190,
     "metadata": {},
     "output_type": "execute_result"
    },
    {
     "data": {
      "image/png": "[encoded data removed]",
      "text/plain": [
       "<matplotlib.figure.Figure at 0x9a482080>"
      ]
     },
     "metadata": {},
     "output_type": "display_data"
    }
   ],
   "source": [
    "df_count_positivevalue=X.apply(lambda x :x.sum()).value_counts().sort_index()\n",
    "plt.figure(figsize=(12,3))\n",
    "sns.barplot(x=df_count_positivevalue[:30].index, y=df_count_positivevalue[:30].values)\n",
    "plt.ylabel('Number of feature variables', fontsize=12)\n",
    "plt.xlabel('Number of the value 1 occurred in a feature variable', fontsize=12)\n"
   ]
  },
  {
   "cell_type": "markdown",
   "metadata": {},
   "source": [
    "<div style=\"text-align:left\"><span style=\"color:blue; font-family:Times New Roman; font-size:2.5em;\"> 3   Model Building </span></div>"
   ]
  },
  {
   "cell_type": "markdown",
   "metadata": {},
   "source": [
    "<div style=\"text-align:left\"><span style=\"color:blue; font-family:Times New Roman; font-size:2em;\"> 3.1   Candidate Models </span></div>"
   ]
  },
  {
   "cell_type": "markdown",
   "metadata": {},
   "source": [
    "<div style=\"text-align:justify\"><span style=\"color:black; font-family:Times New Roman; font-size:1.5em;line-height:1.4em;\">   Through the data exploration shown above, the data exhibits several characteristics: binary, high-dimensional, and imbalanced. For this classification problem, several Machine Learning models are applied and compared in order to achieve best predictive performance.<br \\>\n",
    "The Machine Learning models are selected below: \n",
    "<br \\>\n",
    "1.  Logistic Regression with regularization \n",
    "<br \\>\n",
    "2.\tRandom Forest Classifier \n",
    "<br \\>\n",
    "3.\tExtra Trees Classifier\n",
    "<br \\>\n",
    "4.\tBagging Classifier \n",
    "<br \\>\n",
    "5.  AdaBoost Classifier \n",
    "<br \\>\n",
    "6.  Gradient Boosting Classifier\n",
    "<br \\>\n",
    "7. XGB Classifier\n",
    "<br \\>\n",
    "\n",
    "Logistic regression is a pretty simple and easily interpreted classification algorithm that can perform feature selection to avoid overfitting by using l2 or l1 regularization. A simple regularized Logistic Regression is served as a baseline to show the predictive power of the input data on the output variable. The tree ensemble algorithms have been known to perform very well on high dimensional and imbalanced datasets. The tree-based classifiers apply the splitting rules that will address both class labels and discard irrelevant features for each node split.\n",
    "\n",
    " </span></div>"
   ]
  },
  {
   "cell_type": "markdown",
   "metadata": {},
   "source": [
    "<div style=\"text-align:left\"><span style=\"color:blue; font-family:Times New Roman; font-size:2em;\"> 3.2   Train Test Split </span></div>"
   ]
  },
  {
   "cell_type": "markdown",
   "metadata": {},
   "source": [
    "<div style=\"text-align:justify\"><span style=\"color:black; font-family:Times New Roman; font-size:1.5em;line-height:1.4em;\">In order to evaluate final model’s generalized performance on an unseen dataset, the preprocessed data of X and Y are split into the training (80%) and test (20%) datasets. Because of the class imbalance, stratified sampling is applied in the split to preserve the same percentage for each target class as in the complete set.\n",
    "The test set (X_test, Y_test) is used to evaluate the performance of the final model on unseen data after hyperparameter tuning of a classifier. The training set (X_train, Y_train) is used to build learning algorithms and tune hyperparameters. \n",
    " \n",
    "\n",
    " </span></div>"
   ]
  },
  {
   "cell_type": "code",
   "execution_count": 8,
   "metadata": {
    "collapsed": false
   },
   "outputs": [],
   "source": [
    "X_train, X_test, Y_train, Y_test = train_test_split(X, Y, test_size=0.2, stratify=Y, random_state=42)"
   ]
  },
  {
   "cell_type": "markdown",
   "metadata": {},
   "source": [
    "<div style=\"text-align:left\"><span style=\"color:blue; font-family:Times New Roman; font-size:2em;\"> 3.3   Cross Validation =>  Hyper-parameters Tuning => Model Evaluation </span></div>"
   ]
  },
  {
   "cell_type": "markdown",
   "metadata": {},
   "source": [
    "<div style=\"text-align:left\"><span style=\"color:blue; font-family:Times New Roman; font-size:1.8em;\"> 3.3.1   Before Feature Engineering </span></div>"
   ]
  },
  {
   "cell_type": "markdown",
   "metadata": {},
   "source": [
    "<div style=\"text-align:justify\"><span style=\"color:black; font-family:Times New Roman; font-size:1.5em;line-height:1.4em;\">I use 4-fold stratified cross validation to tune the hyper-parameters of each candidate classifier in order to optimize the classification accuracy. The GridSearchCV in scikit-learn is applied to divide the training data into the train set and validation set. 4-fold Cross Validation creates 4 different combination of train/validation sets. The train set is used to train the model and the validation set is for prediction error estimation. A model with best parameters will be selected by the validation set with maximum prediction accuracy and will be assessed by the test set to estimate generalization error of this selection.\n",
    " </span></div>"
   ]
  },
  {
   "cell_type": "code",
   "execution_count": 51,
   "metadata": {
    "collapsed": false
   },
   "outputs": [
    {
     "data": {
      "text/html": [
       "<div>\n",
       "<table border=\"1\" class=\"dataframe\">\n",
       "  <thead>\n",
       "    <tr style=\"text-align: right;\">\n",
       "      <th></th>\n",
       "      <th>Classifier</th>\n",
       "      <th>Accuracy in validation set</th>\n",
       "      <th>Accuracy in test set</th>\n",
       "    </tr>\n",
       "  </thead>\n",
       "  <tbody>\n",
       "    <tr>\n",
       "      <th>0</th>\n",
       "      <td>Logistic Regression</td>\n",
       "      <td>0.898585</td>\n",
       "      <td>0.820755</td>\n",
       "    </tr>\n",
       "    <tr>\n",
       "      <th>1</th>\n",
       "      <td>Random Forest Classifier</td>\n",
       "      <td>0.900943</td>\n",
       "      <td>0.830189</td>\n",
       "    </tr>\n",
       "    <tr>\n",
       "      <th>2</th>\n",
       "      <td>Bagging Classifier</td>\n",
       "      <td>0.903302</td>\n",
       "      <td>0.820755</td>\n",
       "    </tr>\n",
       "    <tr>\n",
       "      <th>3</th>\n",
       "      <td>AdaBoost Classifier</td>\n",
       "      <td>0.900943</td>\n",
       "      <td>0.820755</td>\n",
       "    </tr>\n",
       "    <tr>\n",
       "      <th>4</th>\n",
       "      <td>Gradient Boosting Classifier</td>\n",
       "      <td>0.905660</td>\n",
       "      <td>0.839623</td>\n",
       "    </tr>\n",
       "    <tr>\n",
       "      <th>5</th>\n",
       "      <td>XGB Classifier</td>\n",
       "      <td>0.903302</td>\n",
       "      <td>0.820755</td>\n",
       "    </tr>\n",
       "  </tbody>\n",
       "</table>\n",
       "</div>"
      ],
      "text/plain": [
       "                     Classifier  Accuracy in validation set  \\\n",
       "0           Logistic Regression                    0.898585   \n",
       "1      Random Forest Classifier                    0.900943   \n",
       "2            Bagging Classifier                    0.903302   \n",
       "3           AdaBoost Classifier                    0.900943   \n",
       "4  Gradient Boosting Classifier                    0.905660   \n",
       "5                XGB Classifier                    0.903302   \n",
       "\n",
       "   Accuracy in test set  \n",
       "0              0.820755  \n",
       "1              0.830189  \n",
       "2              0.820755  \n",
       "3              0.820755  \n",
       "4              0.839623  \n",
       "5              0.820755  "
      ]
     },
     "execution_count": 51,
     "metadata": {},
     "output_type": "execute_result"
    }
   ],
   "source": [
    "def model_tuning(classifier, param_grid, X_train, X_test, Y_train, Y_test, valid_score_list, test_score_list):\n",
    "    grid = GridSearchCV(classifier,param_grid, scoring='accuracy', n_jobs=-1, cv=4)\n",
    "    grid.fit(X_train, Y_train)\n",
    "    valid_score_list.append(grid.best_score_)\n",
    "    test_score_list.append(grid.score(X_test,Y_test))\n",
    "valid_score_list=[]\n",
    "test_score_list=[]\n",
    "############\n",
    "############ 1. Logistic Regression with regularization\n",
    "classifier = LogisticRegression(random_state=0)\n",
    "param_grid = {'C': [0.1],'penalty': ['l1','l2']}\n",
    "model_tuning(classifier, param_grid, X_train, X_test, Y_train, Y_test, valid_score_list, test_score_list)\n",
    "############\n",
    "############ 2. Random Forest Classifier \n",
    "classifier = RandomForestClassifier(criterion='entropy', random_state=0, class_weight = \"balanced\")\n",
    "param_grid = {'n_estimators': [200],\n",
    "              'max_depth': [6],\n",
    "              'min_samples_split': [22],\n",
    "              'min_samples_leaf': [4]}\n",
    "model_tuning(classifier, param_grid, X_train, X_test, Y_train, Y_test, valid_score_list, test_score_list)\n",
    "############\n",
    "############ 3. Bagging Classifier\n",
    "base_estimator = DecisionTreeClassifier(criterion='entropy',max_depth=None, random_state=0)\n",
    "classifier = BaggingClassifier(base_estimator=base_estimator, bootstrap=True, bootstrap_features=True, \n",
    "                               n_jobs=-1, random_state=0)\n",
    "param_grid = {'n_estimators': [20],\n",
    "              'max_samples': [0.3]}\n",
    "model_tuning(classifier, param_grid, X_train, X_test, Y_train, Y_test, valid_score_list, test_score_list)\n",
    "############\n",
    "############ 4. AdaBoost Classifier \n",
    "base_estimator = DecisionTreeClassifier(criterion='entropy',max_depth=1, random_state=0, class_weight=\"balanced\")\n",
    "classifier = AdaBoostClassifier(base_estimator=base_estimator, random_state=0)\n",
    "param_grid = {'n_estimators': [4],\n",
    "              'learning_rate': [0.1]}\n",
    "model_tuning(classifier, param_grid, X_train, X_test, Y_train, Y_test, valid_score_list, test_score_list)\n",
    "############\n",
    "############ 5. Gradient Boosting Classifier\n",
    "classifier = GradientBoostingClassifier(random_state=0,learning_rate=0.1)\n",
    "param_grid = {'n_estimators': [6],\n",
    "              'max_depth': [2],\n",
    "              'subsample': [1],\n",
    "              'min_samples_leaf': [3]}\n",
    "model_tuning(classifier, param_grid, X_train, X_test, Y_train, Y_test, valid_score_list, test_score_list)\n",
    "############\n",
    "############ 6. XGB Classifier \n",
    "classifier = XGBClassifier(objective='binary:logistic', seed =0, subsample=1.0,\n",
    "                          colsample_bytree=1.0,min_child_weight=1,learning_rate=0.1)\n",
    "param_grid = {'n_estimators': [60],\n",
    "              'max_depth': [4]}\n",
    "model_tuning(classifier, param_grid, X_train, X_test, Y_train, Y_test, valid_score_list, test_score_list)\n",
    "classifiers=[\"Logistic Regression\", \"Random Forest Classifier\", \n",
    "            \"Bagging Classifier\", \"AdaBoost Classifier\", \"Gradient Boosting Classifier\", \"XGB Classifier\" ]\n",
    "DataFrame({\"Classifier\":classifiers, \"Accuracy in validation set\" : valid_score_list,\n",
    "           \"Accuracy in test set\" : test_score_list}, columns=[\"Classifier\",\"Accuracy in validation set\",\"Accuracy in test set\"])"
   ]
  },
  {
   "cell_type": "markdown",
   "metadata": {},
   "source": [
    "<div style=\"text-align:left\"><span style=\"color:blue; font-family:Times New Roman; font-size:1.8em;\"> 3.3.2   Apply Feature Engineering </span></div>"
   ]
  },
  {
   "cell_type": "code",
   "execution_count": 23,
   "metadata": {
    "collapsed": false
   },
   "outputs": [
    {
     "data": {
      "text/html": [
       "<div>\n",
       "<table border=\"1\" class=\"dataframe\">\n",
       "  <thead>\n",
       "    <tr style=\"text-align: right;\">\n",
       "      <th></th>\n",
       "      <th>Threshold</th>\n",
       "      <th>Feature numbers</th>\n",
       "      <th>Accuracy in validation set</th>\n",
       "      <th>Accuracy in test set</th>\n",
       "    </tr>\n",
       "  </thead>\n",
       "  <tbody>\n",
       "    <tr>\n",
       "      <th>0</th>\n",
       "      <td>0.000000</td>\n",
       "      <td>9543</td>\n",
       "      <td>0.903302</td>\n",
       "      <td>0.820755</td>\n",
       "    </tr>\n",
       "    <tr>\n",
       "      <th>1</th>\n",
       "      <td>0.002070</td>\n",
       "      <td>248</td>\n",
       "      <td>0.917453</td>\n",
       "      <td>0.830189</td>\n",
       "    </tr>\n",
       "    <tr>\n",
       "      <th>2</th>\n",
       "      <td>0.004141</td>\n",
       "      <td>79</td>\n",
       "      <td>0.917453</td>\n",
       "      <td>0.820755</td>\n",
       "    </tr>\n",
       "    <tr>\n",
       "      <th>3</th>\n",
       "      <td>0.006211</td>\n",
       "      <td>47</td>\n",
       "      <td>0.933962</td>\n",
       "      <td>0.811321</td>\n",
       "    </tr>\n",
       "    <tr>\n",
       "      <th>4</th>\n",
       "      <td>0.008282</td>\n",
       "      <td>25</td>\n",
       "      <td>0.931604</td>\n",
       "      <td>0.801887</td>\n",
       "    </tr>\n",
       "    <tr>\n",
       "      <th>5</th>\n",
       "      <td>0.010352</td>\n",
       "      <td>16</td>\n",
       "      <td>0.919811</td>\n",
       "      <td>0.811321</td>\n",
       "    </tr>\n",
       "    <tr>\n",
       "      <th>6</th>\n",
       "      <td>0.012422</td>\n",
       "      <td>12</td>\n",
       "      <td>0.917453</td>\n",
       "      <td>0.801887</td>\n",
       "    </tr>\n",
       "    <tr>\n",
       "      <th>7</th>\n",
       "      <td>0.014493</td>\n",
       "      <td>7</td>\n",
       "      <td>0.910377</td>\n",
       "      <td>0.773585</td>\n",
       "    </tr>\n",
       "    <tr>\n",
       "      <th>8</th>\n",
       "      <td>0.016563</td>\n",
       "      <td>6</td>\n",
       "      <td>0.908019</td>\n",
       "      <td>0.820755</td>\n",
       "    </tr>\n",
       "    <tr>\n",
       "      <th>9</th>\n",
       "      <td>0.020704</td>\n",
       "      <td>5</td>\n",
       "      <td>0.905660</td>\n",
       "      <td>0.820755</td>\n",
       "    </tr>\n",
       "    <tr>\n",
       "      <th>10</th>\n",
       "      <td>0.031056</td>\n",
       "      <td>3</td>\n",
       "      <td>0.905660</td>\n",
       "      <td>0.820755</td>\n",
       "    </tr>\n",
       "    <tr>\n",
       "      <th>11</th>\n",
       "      <td>0.037267</td>\n",
       "      <td>2</td>\n",
       "      <td>0.900943</td>\n",
       "      <td>0.820755</td>\n",
       "    </tr>\n",
       "    <tr>\n",
       "      <th>12</th>\n",
       "      <td>0.062112</td>\n",
       "      <td>1</td>\n",
       "      <td>0.900943</td>\n",
       "      <td>0.820755</td>\n",
       "    </tr>\n",
       "  </tbody>\n",
       "</table>\n",
       "</div>"
      ],
      "text/plain": [
       "    Threshold  Feature numbers  Accuracy in validation set  \\\n",
       "0    0.000000             9543                    0.903302   \n",
       "1    0.002070              248                    0.917453   \n",
       "2    0.004141               79                    0.917453   \n",
       "3    0.006211               47                    0.933962   \n",
       "4    0.008282               25                    0.931604   \n",
       "5    0.010352               16                    0.919811   \n",
       "6    0.012422               12                    0.917453   \n",
       "7    0.014493                7                    0.910377   \n",
       "8    0.016563                6                    0.908019   \n",
       "9    0.020704                5                    0.905660   \n",
       "10   0.031056                3                    0.905660   \n",
       "11   0.037267                2                    0.900943   \n",
       "12   0.062112                1                    0.900943   \n",
       "\n",
       "    Accuracy in test set  \n",
       "0               0.820755  \n",
       "1               0.830189  \n",
       "2               0.820755  \n",
       "3               0.811321  \n",
       "4               0.801887  \n",
       "5               0.811321  \n",
       "6               0.801887  \n",
       "7               0.773585  \n",
       "8               0.820755  \n",
       "9               0.820755  \n",
       "10              0.820755  \n",
       "11              0.820755  \n",
       "12              0.820755  "
      ]
     },
     "execution_count": 23,
     "metadata": {},
     "output_type": "execute_result"
    }
   ],
   "source": [
    "classifier = XGBClassifier(objective='binary:logistic', seed =0, subsample=1.0,\n",
    "                          colsample_bytree=1.0,min_child_weight=1,learning_rate=0.1,\n",
    "                          n_estimators=60,max_depth=4)\n",
    "classifier.fit(X_train, Y_train)\n",
    "thresholds = np.sort(classifier.feature_importances_)\n",
    "thresholds=np.unique(thresholds)\n",
    "feature_numbers=[]\n",
    "valid_score_list=[]\n",
    "test_score_list=[]\n",
    "for thresh in thresholds[1:]:\n",
    "    # select features using threshold\n",
    "    selection = SelectFromModel(classifier, threshold=thresh, prefit=True)\n",
    "    select_X_train = selection.transform(X_train)\n",
    "    select_X_test = selection.transform(X_test)\n",
    "    # train model\n",
    "    classifier1 = XGBClassifier(objective='binary:logistic', seed =0, subsample=1.0,\n",
    "                          colsample_bytree=1.0,min_child_weight=1,learning_rate=0.1)\n",
    "    param_grid = {'n_estimators': [40,50,60,70,80,90,100,120,140,160,180,200,250,300,350,400],\n",
    "                  'max_depth': [2,3,4,5],\n",
    "                  'min_child_weight': [1,2,3,4]}\n",
    "    grid = GridSearchCV(classifier,param_grid, scoring='accuracy', n_jobs=-1, cv=4)\n",
    "    grid.fit(select_X_train, Y_train)\n",
    "    feature_numbers.append(select_X_train.shape[1])\n",
    "    valid_score_list.append(grid.best_score_)\n",
    "    test_score_list.append(grid.score(select_X_test,Y_test))\n",
    "    \n",
    "DataFrame({\"Threshold\":thresholds, \"Feature numbers\" :feature_numbers,\n",
    "           \"Accuracy in validation set\" : valid_score_list, \"Accuracy in test set\" : test_score_list}, \n",
    "          columns=[\"Threshold\",\"Feature numbers\",\n",
    "                   \"Accuracy in validation set\",\"Accuracy in test set\"])"
   ]
  },
  {
   "cell_type": "code",
   "execution_count": 9,
   "metadata": {
    "collapsed": false
   },
   "outputs": [],
   "source": [
    "classifier = XGBClassifier(objective='binary:logistic', seed =0, subsample=1.0,\n",
    "                          colsample_bytree=1.0,min_child_weight=1,learning_rate=0.1,\n",
    "                          n_estimators=60,max_depth=4)\n",
    "classifier.fit(X_train, Y_train)\n",
    "# Delete non-important features\n",
    "thresh=0.002070\n",
    "selection = SelectFromModel(classifier, threshold=thresh, prefit=True)\n",
    "select_X_train = selection.transform(X_train)\n",
    "select_X_test = selection.transform(X_test)"
   ]
  },
  {
   "cell_type": "markdown",
   "metadata": {},
   "source": [
    "<div style=\"text-align:left\"><span style=\"color:blue; font-family:Times New Roman; font-size:1.8em;\"> 3.3.3   After Feature Engineering </span></div>"
   ]
  },
  {
   "cell_type": "code",
   "execution_count": 50,
   "metadata": {
    "collapsed": false
   },
   "outputs": [
    {
     "data": {
      "text/html": [
       "<div>\n",
       "<table border=\"1\" class=\"dataframe\">\n",
       "  <thead>\n",
       "    <tr style=\"text-align: right;\">\n",
       "      <th></th>\n",
       "      <th>Classifier</th>\n",
       "      <th>Accuracy in validation set</th>\n",
       "      <th>Accuracy in test set</th>\n",
       "    </tr>\n",
       "  </thead>\n",
       "  <tbody>\n",
       "    <tr>\n",
       "      <th>0</th>\n",
       "      <td>Logistic Regression</td>\n",
       "      <td>0.919811</td>\n",
       "      <td>0.849057</td>\n",
       "    </tr>\n",
       "    <tr>\n",
       "      <th>1</th>\n",
       "      <td>Random Forest Classifier</td>\n",
       "      <td>0.910377</td>\n",
       "      <td>0.849057</td>\n",
       "    </tr>\n",
       "    <tr>\n",
       "      <th>2</th>\n",
       "      <td>Bagging Classifier</td>\n",
       "      <td>0.908019</td>\n",
       "      <td>0.830189</td>\n",
       "    </tr>\n",
       "    <tr>\n",
       "      <th>3</th>\n",
       "      <td>AdaBoost Classifier</td>\n",
       "      <td>0.900943</td>\n",
       "      <td>0.820755</td>\n",
       "    </tr>\n",
       "    <tr>\n",
       "      <th>4</th>\n",
       "      <td>Gradient Boosting Classifier</td>\n",
       "      <td>0.933962</td>\n",
       "      <td>0.849057</td>\n",
       "    </tr>\n",
       "    <tr>\n",
       "      <th>5</th>\n",
       "      <td>XGB Classifier</td>\n",
       "      <td>0.924528</td>\n",
       "      <td>0.849057</td>\n",
       "    </tr>\n",
       "  </tbody>\n",
       "</table>\n",
       "</div>"
      ],
      "text/plain": [
       "                     Classifier  Accuracy in validation set  \\\n",
       "0           Logistic Regression                    0.919811   \n",
       "1      Random Forest Classifier                    0.910377   \n",
       "2            Bagging Classifier                    0.908019   \n",
       "3           AdaBoost Classifier                    0.900943   \n",
       "4  Gradient Boosting Classifier                    0.933962   \n",
       "5                XGB Classifier                    0.924528   \n",
       "\n",
       "   Accuracy in test set  \n",
       "0              0.849057  \n",
       "1              0.849057  \n",
       "2              0.830189  \n",
       "3              0.820755  \n",
       "4              0.849057  \n",
       "5              0.849057  "
      ]
     },
     "execution_count": 50,
     "metadata": {},
     "output_type": "execute_result"
    }
   ],
   "source": [
    "def model_tuning(classifier, param_grid, X_train, X_test, Y_train, Y_test, valid_score_list, test_score_list):\n",
    "    grid = GridSearchCV(classifier,param_grid, scoring='accuracy', n_jobs=-1, cv=4)\n",
    "    grid.fit(X_train, Y_train)\n",
    "    valid_score_list.append(grid.best_score_)\n",
    "    test_score_list.append(grid.score(X_test,Y_test))\n",
    "valid_score_list=[]\n",
    "test_score_list=[]\n",
    "############\n",
    "############ 1. Logistic Regression with regularization\n",
    "classifier = LogisticRegression(random_state=0)\n",
    "param_grid = {'C': [0.1],'penalty': ['l2']}\n",
    "model_tuning(classifier, param_grid, select_X_train, select_X_test, Y_train, Y_test, valid_score_list, test_score_list)\n",
    "############\n",
    "############ 2. Random Forest Classifier \n",
    "classifier = RandomForestClassifier(criterion='entropy', random_state=0, class_weight = \"balanced\")\n",
    "param_grid = {'n_estimators': [40],\n",
    "              'max_depth': [10],\n",
    "              'min_samples_split': [2],\n",
    "              'min_samples_leaf': [2]}\n",
    "model_tuning(classifier, param_grid, select_X_train, select_X_test, Y_train, Y_test, valid_score_list, test_score_list)\n",
    "############\n",
    "############ 3. Bagging Classifier\n",
    "base_estimator = DecisionTreeClassifier(criterion='entropy',max_depth=None, random_state=0)\n",
    "classifier = BaggingClassifier(base_estimator=base_estimator, bootstrap=True, bootstrap_features=True, \n",
    "                               n_jobs=-1, random_state=0)\n",
    "param_grid = {'n_estimators': [10],\n",
    "              'max_samples': [0.9]}\n",
    "model_tuning(classifier, param_grid, select_X_train, select_X_test, Y_train, Y_test, valid_score_list, test_score_list)\n",
    "############\n",
    "############ 4. AdaBoost Classifier \n",
    "base_estimator = DecisionTreeClassifier(criterion='entropy',max_depth=1, random_state=0, class_weight=\"balanced\")\n",
    "classifier = AdaBoostClassifier(base_estimator=base_estimator, random_state=0)\n",
    "param_grid = {'n_estimators': [5],\n",
    "              'learning_rate': [0.01]}\n",
    "model_tuning(classifier, param_grid, select_X_train, select_X_test, Y_train, Y_test, valid_score_list, test_score_list)\n",
    "############\n",
    "############ 5.Gradient Boosting Classifier\n",
    "classifier = GradientBoostingClassifier(random_state=0,learning_rate=0.1)\n",
    "param_grid = {'n_estimators': [220],\n",
    "              'max_depth': [4],\n",
    "              'subsample': [0.2],\n",
    "              'min_samples_leaf': [9]}\n",
    "model_tuning(classifier, param_grid, select_X_train, select_X_test, Y_train, Y_test, valid_score_list, test_score_list)\n",
    "############\n",
    "############ 6.XGB Classifier \n",
    "classifier = XGBClassifier(objective='binary:logistic',\n",
    "                          colsample_bytree=1.0,min_child_weight=1,learning_rate=0.1, nthread=-1,seed=0)\n",
    "param_grid = {'n_estimators': [660],\n",
    "              'max_depth': [2],\n",
    "              'subsample':[0.5]}\n",
    "model_tuning(classifier, param_grid, select_X_train, select_X_test, Y_train, Y_test, valid_score_list, test_score_list)\n",
    "classifiers=[\"Logistic Regression\", \"Random Forest Classifier\", \n",
    "            \"Bagging Classifier\", \"AdaBoost Classifier\", \"Gradient Boosting Classifier\", \"XGB Classifier\" ]\n",
    "DataFrame({\"Classifier\":classifiers, \"Accuracy in validation set\" : valid_score_list,\n",
    "           \"Accuracy in test set\" : test_score_list}, columns=[\"Classifier\",\"Accuracy in validation set\",\"Accuracy in test set\"])"
   ]
  },
  {
   "cell_type": "markdown",
   "metadata": {},
   "source": [
    "<div style=\"text-align:left\"><span style=\"color:blue; font-family:Times New Roman; font-size:1.8em;\"> 3.3.4   Best Model Performance </span></div>"
   ]
  },
  {
   "cell_type": "code",
   "execution_count": 87,
   "metadata": {
    "collapsed": false
   },
   "outputs": [
    {
     "data": {
      "text/html": [
       "<div>\n",
       "<table border=\"1\" class=\"dataframe\">\n",
       "  <thead>\n",
       "    <tr style=\"text-align: right;\">\n",
       "      <th></th>\n",
       "      <th>Score</th>\n",
       "    </tr>\n",
       "  </thead>\n",
       "  <tbody>\n",
       "    <tr>\n",
       "      <th>Accuracy</th>\n",
       "      <td>0.849057</td>\n",
       "    </tr>\n",
       "    <tr>\n",
       "      <th>Precision</th>\n",
       "      <td>0.846154</td>\n",
       "    </tr>\n",
       "    <tr>\n",
       "      <th>Recall</th>\n",
       "      <td>0.440000</td>\n",
       "    </tr>\n",
       "  </tbody>\n",
       "</table>\n",
       "</div>"
      ],
      "text/plain": [
       "              Score\n",
       "Accuracy   0.849057\n",
       "Precision  0.846154\n",
       "Recall     0.440000"
      ]
     },
     "execution_count": 87,
     "metadata": {},
     "output_type": "execute_result"
    }
   ],
   "source": [
    "classifier = GradientBoostingClassifier(random_state=0,learning_rate=0.1,\n",
    "                                       n_estimators=220,max_depth=4,subsample=0.2,min_samples_leaf=9 )\n",
    "classifier.fit(select_X_train, Y_train)\n",
    "Y_pred=classifier.predict(select_X_test) \n",
    "DataFrame([accuracy_score(Y_test, Y_pred),precision_score(Y_test, Y_pred),recall_score(Y_test, Y_pred)],\n",
    "          index=[\"Accuracy\",\"Precision\",\"Recall\"]).rename(columns={0:\"Score\"})"
   ]
  },
  {
   "cell_type": "code",
   "execution_count": 84,
   "metadata": {
    "collapsed": false
   },
   "outputs": [
    {
     "data": {
      "image/png": "[encoded data removed]",
      "text/plain": [
       "<matplotlib.figure.Figure at 0x13bdb438>"
      ]
     },
     "metadata": {},
     "output_type": "display_data"
    }
   ],
   "source": [
    "c=confusion_matrix(Y_test, Y_pred, labels=[1, 0])\n",
    "np.set_printoptions(precision=5)\n",
    "c=c.astype('float')/c.sum()\n",
    "\n",
    "plt.figure(figsize=(5,5))\n",
    "plt.imshow(c, interpolation='nearest',cmap=plt.cm.Blues)\n",
    "tick_marks = np.arange(2)\n",
    "plt.xticks(tick_marks, ['1', '0'])\n",
    "plt.yticks(tick_marks, ['1', '0'])\n",
    "plt.colorbar()\n",
    "thresh = c.max() / 2.\n",
    "for i, j in product(range(c.shape[0]), range(c.shape[1])):\n",
    "    plt.text(j, i, '%.2f' % c[i, j],horizontalalignment=\"center\",\n",
    "             color=\"white\" if c[i, j] > thresh else \"black\")\n",
    "    plt.tight_layout()\n",
    "    plt.ylabel('True label')\n",
    "    plt.xlabel('Predicted label')\n",
    "    plt.title('Confusion matrix in the test set')"
   ]
  },
  {
   "cell_type": "code",
   "execution_count": null,
   "metadata": {
    "collapsed": true
   },
   "outputs": [],
   "source": []
  }
 ],
 "metadata": {
  "kernelspec": {
   "display_name": "Python 2",
   "language": "python",
   "name": "python2"
  },
  "language_info": {
   "codemirror_mode": {
    "name": "ipython",
    "version": 2
   },
   "file_extension": ".py",
   "mimetype": "text/x-python",
   "name": "python",
   "nbconvert_exporter": "python",
   "pygments_lexer": "ipython2",
   "version": "2.7.12"
  }
 },
 "nbformat": 4,
 "nbformat_minor": 0
}
