{
 "cells": [
  {
   "cell_type": "code",
   "execution_count": null,
   "metadata": {
    "collapsed": true
   },
   "outputs": [],
   "source": [
    "## choose scala notebook in Databrick\n",
    "## This is Spark SQL"
   ]
  },
  {
   "cell_type": "markdown",
   "metadata": {},
   "source": [
    "### Load data"
   ]
  },
  {
   "cell_type": "code",
   "execution_count": null,
   "metadata": {
    "collapsed": true
   },
   "outputs": [],
   "source": [
    "val df = sqlContext\n",
    "  .read.format(\"com.databricks.spark.csv\")\n",
    "  .option(\"header\", \"true\")\n",
    "  .load(\"dbfs:/databricks-datasets/data.gov/irs_zip_code_data/data-001/2013_soi_zipcode_agi.csv\")\n",
    "df.createOrReplaceTempView(\"df\")\n",
    "df.printSchema()\n",
    "\n",
    "display(df)\n",
    "#show the column names in the df table\n",
    "%sql SHOW columns FROM df\n",
    "%sql DESCRIBE df \n",
    "\n",
    "#list the tables\n",
    "%sql show tables\n",
    "#list the databases\n",
    "%sql show databases;\n",
    "\n",
    "#cache tables (can store and access tables in memory)\n",
    "%sql CACHE TABLE df\n"
   ]
  },
  {
   "cell_type": "markdown",
   "metadata": {},
   "source": [
    "### display data or plot data"
   ]
  },
  {
   "cell_type": "code",
   "execution_count": null,
   "metadata": {
    "collapsed": true
   },
   "outputs": [],
   "source": [
    "display(df)\n",
    "\n",
    "# you can plot\n",
    "display(df.groupBy(\"State\").count())"
   ]
  },
  {
   "cell_type": "markdown",
   "metadata": {},
   "source": [
    "### create a new table "
   ]
  },
  {
   "cell_type": "code",
   "execution_count": null,
   "metadata": {
    "collapsed": true
   },
   "outputs": [],
   "source": [
    "#create a new table df1\n",
    "%sql \n",
    "DROP TABLE IF EXISTS df1;\n",
    "CREATE TABLE df1 AS\n",
    "SELECT state, \n",
    "  int(zipcode / 10) as zipcode_new, \n",
    "  int(mars1) as mars1_new, \n",
    "  double(a00900) as a00900_new\n",
    "FROM df\n",
    "\n",
    "###############################\n",
    "%sql \n",
    "DROP TABLE IF EXISTS df2;\n",
    "CREATE TABLE df2 AS\n",
    "SELECT zipcode, mars1\n",
    "FROM df\n",
    "LIMIT 3\n",
    "#inserts a single row into the df2 table\n",
    "#need to fill all columns\n",
    "%sql \n",
    "INSERT INTO df2 \n",
    "VALUES (0,22)\n",
    "#inserts rows from other table\n",
    "INSERT INTO df2\n",
    "SELECT df.zipcode, df.mars1 \n",
    "FROM df \n",
    "WHERE df.mars1 > 1000;\n",
    "###############################\n",
    "%sql \n",
    "DROP TABLE IF EXISTS df2;\n",
    "CREATE TABLE df2 (name STRING, age INT, salary Double, time TIMESTAMP)\n",
    "\n",
    "%sql \n",
    "INSERT INTO df2 \n",
    "VALUES (0, null, 2.0, NOW())\n",
    "###############################\n",
    "%sql \n",
    "CREATE TABLE t1 (x TIMESTAMP)\n",
    "\n",
    "%sql\n",
    "INSERT INTO t1 VALUES (now()), (now() + interval 1 day)\n",
    "#t1 table become\n",
    "#x\n",
    "#2017-09-21T20:55:38.313+0000\n",
    "#2017-09-22T20:55:38.313+0000\n",
    "%sql\n",
    "INSERT INTO t1 VALUES ('1966-07-30'), ('1985-09-25 17:45:30.005'), ('08:30:00');"
   ]
  },
  {
   "cell_type": "markdown",
   "metadata": {},
   "source": [
    "### select"
   ]
  },
  {
   "cell_type": "code",
   "execution_count": null,
   "metadata": {
    "collapsed": true
   },
   "outputs": [],
   "source": [
    "%sql \n",
    "SELECT column1name \n",
    "SELECT column1name, column2name\n",
    "SELECT *                                 ##select all columns\n",
    "SELECT column1name / 10                  ##this column is divided by 10 \n",
    "SELECT column1name * 10 \n",
    "SELECT column1name + 10 \n",
    "SELECT column1name - 10 \n",
    "SELECT IFNULL(column1name,0)             ##if \"column1name\" is NULL,it set the column1name value to be zero\n",
    "SELECT ISNULL(column1name)               ##if \"column1name\" value is not NuLL, it show false\n",
    "SELECT COALESCE(column1name,0)           ##if \"column1name\" is NULL,it set the column1name value to be zero\n",
    "SELECT column1name AS column1name_new\n",
    "SELECT column1name + column1name AS column1name_new  ##if add column values\n",
    "SELECT DISTINCT column1name              ##return only values that are distinct        \n",
    "SELECT DISTINCT column1name, column2name ##show all the possible combinations of column1name and column2name \n",
    "\n",
    "SELECT SIGN(column1name)                 ## positive value become 1, o become 0, negative value become -1\n",
    "SELECT COS(column1name)                  ## returns the cosine of a number \n",
    "SELECT SIN(column1name)                  ## returns the sine of the argument\n",
    "SELECT TAN(column1name)                  ## returns the tangent of the argument.\n",
    "SELECT ACOS(column1name)                 ## returns the arc cosine of a number\n",
    "SELECT ASIN(column1name)                 ## returns the arc sine of a number\n",
    "SELECT ATAN(column1name)                 ## returns the arc tangent of a number\n",
    "SELECT EXP(column1name)\n",
    "SELECT LN(column1name)                   ##loge=LOG\n",
    "SELECT LOG(column1name) \n",
    "SELECT LOG2(column1name) \n",
    "SELECT LOG10(column1name)\n",
    "SELECT RADIANS(column1name)              ##converts the value of a number from degrees to radians\n",
    "SELECT SQRT(column1name)                 ##returns the square root of a non-negative number of the argument\n",
    "SELECT PI()                              ##the pi value\n",
    "\n",
    "SELECT CEIL(column1name)                 ## returns the smallest integer value not less than the number specified \n",
    "SELECT FLOOR(column1name)                ## returns the largest integer value not greater than a number \n",
    "SELECT ROUND(column1name)                ## 4.43 become 4, 4.53 become 5\n",
    "SELECT ROUND(column1name,2)              ## Rounds a numeric field to 2 decimal places\n",
    "\n",
    "#!!!!!!!!!!!!!!!!!!!!!!!!!!!!!!!!!!!!!!!!!!!!!!!!!!!!!!!!!!!!!!!!!!!!!!!!\n",
    "# return one value\n",
    "SELECT COUNT(column1name)                ##  return row numbers with non-null values in a column\n",
    "SELECT COUNT(DISTINCT column1name)\n",
    "SELECT COUNT('*')                        ##  return how many rows are in the entire table \n",
    "SELECT AVG(column1name)                  ##  return a column avarage\n",
    "SELECT MAX(column1name)                  ##  return a column maximum value\n",
    "SELECT MIN(column1name)                  ##  return a column minimum value\n",
    "SELECT SUM(column1name)                  ##  return sum of all a column's value\n",
    "SELECT STD(column1name)                  ##  returns the population standard deviation  \n",
    "SELECT STDDEV(column1name)                \n",
    "SELECT STDDEV_SAMP(column1name)          .\n",
    "SELECT STDDEV_POP(column1name)           ##  returns the population standard deviation of an expression ( the square root of VAR_POP())\n",
    "SELECT VARIANCE(column1name)             ##  the population standard variance of an expression\n",
    "SELECT VAR_POP(column1name)              ##  returns the population standard variance of an expression\n",
    "SELECT VAR_SAMP(column1name)             ##  returns the sample variance of a given expression\n",
    "SELECT VAR_POP(column1name)              ##  returns the population standard variance of an expression\n",
    "SELECT FIRST(column1name)                ##  returns the first value\n",
    "SELECT LAST(column1name)                 ##  returns the last value\n",
    "#!!!!!!!!!!!!!!!!!!!!!!!!!!!!!!!!!!!!!!!!!!!!!!!!!!!!!!!!!!!!!!!!!!!!!!!!\n",
    "#for string columns\n",
    "SELECT LCASE(column1name)                ##  converts the \"breed\" column to lowercase\n",
    "SELECT LOWER(column1name)\n",
    "SELECT UCASE(column1name)                ##  converts the \"breed\" column to uppercase\n",
    "SELECT UPPER(column1name)\n",
    "SELECT TRIM(column1name)                 ## trim space, for example: '  br  ' become 'br'\n",
    "SELECT SUBSTR(column1name,2,3)           ## returns 3 numbers of characters from the 2th position of the string, ex '12345' beome '234'\n",
    "SELECT CONCAT(column1name, ',', column3name) ## if the values of column1 and column2 are AL and BC, it bcome AL,BC\n",
    "#!!!!!!!!!!!!!!!!!!!!!!!!!!!!!!!!!!!!!!!!!!!!!!!!!!!!!!!!!!!!!!!!!!!!!!!!\n",
    "#for time column\n",
    "SELECT MONTH('2009-05-18 11:45:42')      ## return 5\n",
    "SELECT MONTH(column1name)                ## if the value of the column1name is 2009-05-18, it will return 5\n",
    "SELECT YEAR(column1name) \n",
    "SELECT DAY(column1name) \n",
    "SELECT HOUR(column1name) \n",
    "SELECT MINUTE(column1name)\n",
    "SELECT SECOND(column1name)\n",
    "SELECT DATE(column1name)                ##2014-11-22 13:23:44.657 become 2014-11-22\n",
    "SELECT DATE_ADD(column1name, 2)         ##add the column1name value by 2 days\n",
    "SELECT NOW()                            ##2017-09-21T20:01:19.591+0000\n",
    "SELECT now() + interval 1 day           ##2017-09-22T20:01:19.591+0000\n",
    "SELECT DATEDIFF('1989-09-11','1989-09-01')              #10\n",
    "SELECT DAYOFMONTH('2008-05-15');                        #15\n",
    "SELECT CAST('1966-07-30' AS timestamp);                 #1966-07-30T00:00:00.000+0000\n",
    "SELECT CAST('1985-09-25 17:45:30.005'  AS timestamp)    #1985-09-25T17:45:30.005+0000\n",
    "SELECT CAST(column1name AS timestamp)\n",
    "#!!!!!!!!!!!!!!!!!!!!!!!!!!!!!!!!!!!!!!!!!!!!!!!!!!!!!!!!!!!!!!!!!!!!!!!!\n",
    "#IF expression\n",
    "SELECT column1name,                                   ##if the value of column2name is 'AL', the new column 'column2name_new' show '1'\n",
    "IF(column2name='AL',\"1\",\"0\")                          ##otherwise 0\n",
    "AS column2name_new \n",
    "\n",
    "SELECT column1name,                                   ##if the value of column2name is > 10, the new column 'column2name_new' show 1\n",
    "IF(column2name>10,1,0)                                ##otherwise 0\n",
    "AS column2name_new \n",
    "\n",
    "SELECT column1name,\n",
    "IF(column2name>10,1,IF(column1name='AL','column1_is_AL','column1_is_not_AL')) \n",
    "AS Language \n",
    "#!!!!!!!!!!!!!!!!!!!!!!!!!!!!!!!!!!!!!!!!!!!!!!!!!!!!!!!!!!!!!!!!!!!!!!!!\n",
    "# Case expression\n",
    "SELECT column1name, \n",
    "  CASE \n",
    "     WHEN column2name = 0 THEN '2'\n",
    "     WHEN column2name > 2000 AND column2name < 20000 THEN '3'\n",
    "     ELSE '4'\n",
    "  END AS column2name_new\n",
    "\n",
    "SELECT column1name, column2name,\n",
    "  CASE \n",
    "     WHEN column1name = \"AL\" THEN 'state'\n",
    "     WHEN column1name != \"AK\" AND column2name < 20000 THEN '3'\n",
    "     WHEN column2name >100 OR column3name < 20000 THEN '3'\n",
    "     WHEN column1name = \"AA\" AND column2name < 10000 OR column3name = 168170 THEN '5'\n",
    "     ELSE '4'\n",
    "  END AS US_user\n",
    "#CASE WHEN \"condition 1\" OR \"condition 2\" AND \"condition 3\". #need to meet cond2 and cond3 first, and then or cond1\n",
    "#CASE WHEN (\"condition 1\" OR \"condition 2\") AND \"condition 3\". #need to meet cond1 or cond2 first, and then and cond3\n",
    "#~~~~~~~~~~~~~~~~~~~~~~~~~~~~~~~~~~~~~~~~~~~~~~~~~~~~~\n",
    "FROM df\n",
    "FROM df as d;"
   ]
  },
  {
   "cell_type": "markdown",
   "metadata": {},
   "source": [
    "### UNION"
   ]
  },
  {
   "cell_type": "code",
   "execution_count": null,
   "metadata": {
    "collapsed": true
   },
   "outputs": [],
   "source": [
    "#selects all the different cities (only distinct values) from the \"Customers\" and the \"Suppliers\" tables:\n",
    "#If several customers and suppliers share the same city, each city will only be listed once. \n",
    "SELECT City FROM Customers\n",
    "UNION\n",
    "SELECT City FROM Suppliers\n",
    "\n",
    "# select all (duplicate values also) cities from the \"Customers\" and \"Suppliers\" tables\n",
    "SELECT City FROM Customers\n",
    "UNION ALL\n",
    "SELECT City FROM Suppliers\n",
    "\n",
    "#select all (duplicate values also) German cities from the \"Customers\" and \"Suppliers\" tables\n",
    "# the result will show two columns - City and Country which are all 'Germany'\n",
    "SELECT City, Country FROM Customers\n",
    "WHERE Country='Germany'\n",
    "UNION ALL\n",
    "SELECT City, Country FROM Suppliers\n",
    "WHERE Country='Germany'"
   ]
  },
  {
   "cell_type": "markdown",
   "metadata": {},
   "source": [
    "### WHERE"
   ]
  },
  {
   "cell_type": "code",
   "execution_count": null,
   "metadata": {
    "collapsed": true
   },
   "outputs": [],
   "source": [
    "SELECT column1name\n",
    "FROM df\n",
    "#~~~~~~~~~~~~~~~~~~~~~~~~~~~~~~~~~~~~~~~~~~~~~~~~~~~~~\n",
    "# Can use !=, =, <,>,<=, and >=. \n",
    "WHERE column1name !='AL'                     ## select the rows that the column1name value is  !='AL'\n",
    "WHERE NOT column1name='AL'\n",
    "WHERE column1name  ='AL'                     ## select the rows that the column1name value is  'AL'\n",
    "WHERE column1name IN (\"AK\",\"BN\")             ## select the rows that the column1name value is \"AK\" or \"BN\"\n",
    "WHERE column1name NOT IN (\"AK\",\"BN\")         ## select the rows that the column1name value is not \"AK\" or \"BN\"\n",
    "\n",
    "WHERE column1name BETWEEN 100 AND 500        ## select the rows that the column1name value is  100 ~ 500\n",
    "WHERE column1name NOT BETWEEN 100 AND 500    ## select the rows that the column1name value is  NOT BETWEEN 100 AND 500\n",
    "WHERE column1name BETWEEN 'A' AND 'C'        \n",
    "## select the rows that the column1name beginning with any of the letter BETWEEN 'A' and 'C'\n",
    "WHERE column1name BETWEEN #07/04/1996# AND #07/09/1996#\n",
    "WHERE column1name BETWEEN '22/02/2009 09:00:00.000' and '23/05/2009 10:30:00.000'\n",
    "WHERE (column1name BETWEEN 100 AND 500) AND NOT column2name IN (1,2,3)\n",
    "#selects all rows with a column1name BETWEEN 100 and 500, but the column2name IS NOT 1,2, or 3\n",
    "\n",
    "WHERE column1name > GREATEST(100, 200,300,395) \n",
    "## select the rows that the column1name column is > the largest value of (100, 200,300,395)\n",
    "WHERE column1name > LEAST(100, 200,300,395)\n",
    "## select the rows that the column1name column is > the smallest value of (100, 200,300,395)\n",
    "\n",
    "WHERE column1name ='AL' OR column2name > 1000\n",
    "WHERE column1name ='AL' AND column2name > 1000\n",
    "WHERE column1name ='AL' AND (column2name > 1000 OR column3name > 2000)\n",
    "\n",
    "WHERE column1name LIKE (\"%53%\")             ## select the rows that the column1name value contains '53', ex: 46653\n",
    "WHERE column1name NOT LIKE (\"%53%\")         ## select the rows that the column1name value don't contain '53'\n",
    "WHERE column1name LIKE (\"%53\")              ## select the rows that the column1name value ends with '53'\n",
    "WHERE column1name LIKE (\"53%\")              ## select the rows that the column1name value starts with '53'\n",
    "WHERE column1name regexp '^K.*'             ## select the rows that the column1name value starts with  'K', ex: 'Kay'\n",
    "WHERE column1name rlike '^K.*'\n",
    "# 'd' is optional and the 'L' can be upper- or lowercase.\n",
    "WHERE column1name regexp '^Kyd?[Ll]e$'      ## select the rows that the column1name value is kyLe or kyle or kydLe or kydle \n",
    "WHERE column1name regexp '^(Ky|kd)le$''     ## select the rows that the column1name value is Kyle or kdle\n",
    "WHERE column1name regexp '^[A-C].*'         ## select the rows that the column1name value starts with A, B, or C\n",
    "\n",
    "WHERE column1name IS NOT NULL\n",
    "WHERE column1name IS NULL                   ## select the rows that the column1name value is NULL\n",
    "WHERE column1name !=\"None\"\n",
    "WHERE column1name !=\"\"                      ## excludes empty string entries \n",
    "#!!!!!!!!!!!!!!!!!!!!!!!!!!!!!!!!!!!!!!!!!!!!!!!!!!!!!!!!!!!!!!!!!!!!!!!!\n",
    "# for time column\n",
    "WHERE DAY(column1name) > 15                 ## select data  after the 15th day of every month \n",
    "WHERE YEAR(column1name) > 2010\n",
    "WHERE MONTH(column1name) > 2\n",
    "WHERE HOUR(column1name) > 10\n",
    "WHERE MINUTE(column1name) > 10\n",
    "WHERE SECOND(column1name) > 10\n",
    "WHERE column1name > '2014-02-04'            ## select data  after '2014-02-04'\n",
    "#!!!!!!!!!!!!!!!!!!!!!!!!!!!!!!!!!!!!!!!!!!!!!!!!!!!!!!!!!!!!!!!!!!!!!!!!\n",
    "# subqueries\n",
    "WHERE column1name > \n",
    "    (SELECT AVG(column1name)\n",
    "     FROM df\n",
    "     WHERE column1name>0)\n",
    "# query a list of all the zipcode in the df table which are also in the df1 table\n",
    "#EXISTS/NOT EXISTS statements return a value of TRUE or FALSE\n",
    "# list all the distinct zipcode values from the df table that have a value of \"TRUE\" in the EXISTS clause.\n",
    "SELECT  DISTINCT u.zipcode\n",
    "FROM df u\n",
    "WHERE EXISTS (SELECT d.zip  \n",
    "              FROM df1 d \n",
    "              WHERE u.zipcode =d.zip);\n",
    "# query a list of all the zipcode in the df table which are not in the df1 table\n",
    "SELECT  DISTINCT u.zipcode\n",
    "FROM df u\n",
    "WHERE NOT EXISTS (SELECT d.zip  \n",
    "              FROM df1 d \n",
    "              WHERE u.zipcode =d.zip);"
   ]
  },
  {
   "cell_type": "markdown",
   "metadata": {},
   "source": [
    "### GROUP BY"
   ]
  },
  {
   "cell_type": "code",
   "execution_count": null,
   "metadata": {
    "collapsed": true
   },
   "outputs": [],
   "source": [
    "#if you are grouping by a column, you should also include that column in the SELECT statement.\n",
    "#for example: average all the rows for each group.\n",
    "SELECT column1name, AVG(column2name) as avg_column2name\n",
    "FROM df\n",
    "GROUP BY column1name\n",
    "\n",
    "SELECT YEAR(column1name), COUNT(column2name) \n",
    "FROM df\n",
    "GROUP BY YEAR(column1name)\n",
    "\n",
    "\n",
    "SELECT column1name,column2name,COUNT(column3name)\n",
    "FROM df\n",
    "GROUP BY column1name,column2name\n",
    "#~~~~~~~~~~~~~~~~~~~~~~~~~~~~~~~~~~~~~~~~~~~~~~~~~~~~~\n",
    "#Note:\n",
    "#column B  A\n",
    "#       a  10\n",
    "#       a  20\n",
    "#       a  20\n",
    "#SELECT A, B, COUNT(A)\n",
    "#GROUP BY B\n",
    "#it will show \n",
    "#  A  B count(B)\n",
    "#  10 a  3\n",
    "# only show the first value of A column in each group \n",
    "Correct:\n",
    "#GROUP BY A, B\n",
    "# it will show\n",
    "#  A  B count(B)\n",
    "#  10 a  1\n",
    "#  20 a  2\n",
    "#~~~~~~~~~~~~~~~~~~~~~~~~~~~~~~~~~~~~~~~~~~~~~~~~~~~~~"
   ]
  },
  {
   "cell_type": "markdown",
   "metadata": {},
   "source": [
    "### HAVING"
   ]
  },
  {
   "cell_type": "code",
   "execution_count": null,
   "metadata": {
    "collapsed": true
   },
   "outputs": [],
   "source": [
    "#The HAVING clause was added to SQL because the WHERE keyword could not be used with aggregate functions\n",
    "SELECT column1name,COUNT(column2name)\n",
    "FROM df\n",
    "GROUP BY column1name\n",
    "HAVING COUNT(column2name) > 5\n",
    "# only choose COUNT(column2name) > 5 data\n",
    "\n",
    "SELECT column1name,COUNT(column2name)\n",
    "FROM df\n",
    "GROUP BY column1name\n",
    "HAVING AVG(column2name) > 2"
   ]
  },
  {
   "cell_type": "markdown",
   "metadata": {},
   "source": [
    "### ORDER BY"
   ]
  },
  {
   "cell_type": "code",
   "execution_count": null,
   "metadata": {
    "collapsed": true
   },
   "outputs": [],
   "source": [
    "SELECT column1name, column2name\n",
    "FROM df\n",
    "#~~~~~~~~~~~~~~~~~~~~~~~~~~~~~~~~~~~~~~~~~~~~~~~~~~~~~\n",
    "ORDER BY column1name DESC          #sort the \"column1name\" column in descending order\n",
    "ORDER BY column1name               #sort the \"column1name\" column in alphabetical (ascending) order\n",
    "ORDER BY column1name, column2name  #sort the \"column1name\" column and then the \"column2name\" column in (ascending)  order\n",
    "ORDER BY column1name ASC, column2name DESC #sorted ascending by the column1name and descending by the column2name"
   ]
  },
  {
   "cell_type": "markdown",
   "metadata": {},
   "source": [
    "### LIMIT"
   ]
  },
  {
   "cell_type": "code",
   "execution_count": null,
   "metadata": {
    "collapsed": true
   },
   "outputs": [],
   "source": [
    "SELECT column1name\n",
    "FROM df\n",
    "#~~~~~~~~~~~~~~~~~~~~~~~~~~~~~~~~~~~~~~~~~~~~~~~\n",
    "LIMIT 5          ## show first 5 rows"
   ]
  },
  {
   "cell_type": "markdown",
   "metadata": {
    "collapsed": true
   },
   "source": [
    "### Join"
   ]
  },
  {
   "cell_type": "code",
   "execution_count": null,
   "metadata": {
    "collapsed": true
   },
   "outputs": [],
   "source": [
    "################# inner join ##############################\n",
    "#The INNER JOIN keyword selects all rows from both tables as long as there is a match between the columns in both tables.\n",
    "#~~~~~~~~~~~~~ for 2 tables ~~~~~~~~~~~~~~~~~~~~~~~~~~\n",
    "#Method 1\n",
    "SELECT d.zipcode, u.zip, d.STATE\n",
    "FROM df d, df1 u\n",
    "WHERE d.zipcode=u.zip\n",
    "#Method 2\n",
    "SELECT d.zipcode, u.zip, d.STATE\n",
    "FROM df d\n",
    "JOIN df1 u  #INNER JOIN  df1 u\n",
    "  ON d.zipcode=u.zip    \n",
    "#~~~~~~~~~~~~~ for 3 tables ~~~~~~~~~~~~~~~~~~~~~~~~~~\n",
    "FROM df a, df1 b, df2 c\n",
    "WHERE a.zipcode=b.zip\n",
    "   AND a.STATE=c.state \n",
    "\n",
    "FROM ((df a\n",
    "INNER JOIN df1 b\n",
    "ON a.zipcode=b.zip)\n",
    "INNER JOIN df2 c\n",
    "ON a.STATE=c.state)\n",
    "################# left join ##############################\n",
    "#The LEFT JOIN keyword returns all rows from the left table (table1), with the matching rows in the right table (table2). \n",
    "#The result is NULL in the right side when there is no match.\n",
    "LEFT JOIN\n",
    "################# right join ##############################\n",
    "#The RIGHT JOIN keyword returns all rows from the right table (table2), with the matching rows in the left table (table1). \n",
    "#The result is NULL in the left side when there is no match.\n",
    "RIGHT JOIN \n",
    "################# full outer join ##########################\n",
    "#The FULL OUTER JOIN keyword returns all rows from the left table and from the right table.\n",
    "FULL OUTER JOIN \n",
    "################# cross join for two tables ################\n",
    "#table1  id  value    table2  id2  value2\n",
    "#        1    405            701  16\n",
    "#        2    401            704  14\n",
    "SELECT table2.id2, table2.value2,table1.id, table1.value\n",
    "FROM table2\n",
    "CROSS JOIN table1\n",
    "#show id2 value2 id value\n",
    "#     701  16    1  405\n",
    "#     704  14    1  405\n",
    "#     701  16    2  401\n",
    "#     704  14    2  401"
   ]
  },
  {
   "cell_type": "markdown",
   "metadata": {},
   "source": [
    "### Insert values and update Values to an existing table"
   ]
  },
  {
   "cell_type": "code",
   "execution_count": null,
   "metadata": {
    "collapsed": true
   },
   "outputs": [],
   "source": [
    "#create a new table only has two columns : zipcode, mars1\n",
    "DROP TABLE IF EXISTS df2;\n",
    "CREATE TABLE df2 AS\n",
    "SELECT zipcode, mars1\n",
    "FROM df\n",
    "LIMIT 3\n",
    "#~~~~~~~~~~~~~~~~~~~~~~~~~~~~~~~~~~~~~~~~~~~~~~~~~~~~~~~~~~\n",
    "#inserts a single row into the df2 table\n",
    "#need to fill all columns\n",
    "%sql \n",
    "INSERT INTO df2 \n",
    "VALUES (0,22)\n",
    "#inserts rows from other table\n",
    "INSERT INTO df2\n",
    "SELECT df.zipcode, df.mars1 \n",
    "FROM df \n",
    "WHERE df.mars1 > 1000;"
   ]
  },
  {
   "cell_type": "markdown",
   "metadata": {},
   "source": [
    "### use scala "
   ]
  },
  {
   "cell_type": "code",
   "execution_count": null,
   "metadata": {
    "collapsed": true
   },
   "outputs": [],
   "source": [
    "# convert a table into RDD\n",
    "val rdd= sqlContext.sql(\"SELECT * FROM df\")\n",
    "\n"
   ]
  }
 ],
 "metadata": {
  "kernelspec": {
   "display_name": "Python 2",
   "language": "python",
   "name": "python2"
  },
  "language_info": {
   "codemirror_mode": {
    "name": "ipython",
    "version": 2
   },
   "file_extension": ".py",
   "mimetype": "text/x-python",
   "name": "python",
   "nbconvert_exporter": "python",
   "pygments_lexer": "ipython2",
   "version": "2.7.12"
  }
 },
 "nbformat": 4,
 "nbformat_minor": 0
}
